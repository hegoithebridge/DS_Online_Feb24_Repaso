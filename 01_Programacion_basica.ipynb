{
 "cells": [
  {
   "cell_type": "markdown",
   "metadata": {},
   "source": [
    "# EJERCICIOS REPASO"
   ]
  },
  {
   "cell_type": "markdown",
   "metadata": {},
   "source": [
    "## 01 Programación básica"
   ]
  },
  {
   "cell_type": "markdown",
   "metadata": {},
   "source": [
    "##### 1. Crea un programa en Python que tome una lista de números (que incluye tanto positivos como negativos) y genere una nueva lista que contenga solo los números positivos."
   ]
  },
  {
   "cell_type": "code",
   "execution_count": 1,
   "metadata": {},
   "outputs": [
    {
     "name": "stdout",
     "output_type": "stream",
     "text": [
      "Lista original: [-10, 5, 3, -1, 0, 12, -7, 20, -3, 8]\n",
      "Números positivos: [5, 3, 12, 20, 8]\n"
     ]
    }
   ],
   "source": [
    "# Definimos la lista original con números tanto positivos como negativos\n",
    "numeros = [-10, 5, 3, -1, 0, 12, -7, 20, -3, 8]\n",
    "\n",
    "# Usamos una comprensión de listas para filtrar solo los números positivos\n",
    "numeros_positivos = [num for num in numeros if num > 0]\n",
    "\n",
    "# Imprimimos la lista original y la lista de números positivos\n",
    "print(\"Lista original:\", numeros)\n",
    "print(\"Números positivos:\", numeros_positivos)"
   ]
  },
  {
   "cell_type": "markdown",
   "metadata": {},
   "source": [
    "##### 2. Crea un programa en Python que tome una frase como entrada y cuente cuántas veces aparece cada vocal (a, e, i, o, u) en la frase. Ignora la distinción entre mayúsculas y minúsculas."
   ]
  },
  {
   "cell_type": "code",
   "execution_count": 2,
   "metadata": {},
   "outputs": [
    {
     "name": "stdout",
     "output_type": "stream",
     "text": [
      "Conteo de vocales:\n",
      "a: 3\n",
      "e: 3\n",
      "i: 3\n",
      "o: 3\n",
      "u: 1\n"
     ]
    }
   ],
   "source": [
    "# Pedir al usuario que ingrese una frase\n",
    "frase = input(\"Ingresa una frase: \")\n",
    "\n",
    "# Inicializar un diccionario para contar vocales\n",
    "vocales_count = {\n",
    "    'a': 0,\n",
    "    'e': 0,\n",
    "    'i': 0,\n",
    "    'o': 0,\n",
    "    'u': 0\n",
    "}\n",
    "\n",
    "# Recorrer cada carácter en la frase\n",
    "for char in frase.lower():  # Convertir a minúsculas para ignorar distinción\n",
    "    if char in vocales_count:  # Verificar si el carácter es una vocal\n",
    "        vocales_count[char] += 1  # Incrementar el conteo de la vocal\n",
    "\n",
    "# Imprimir el resultado\n",
    "print(\"Conteo de vocales:\")\n",
    "for vocal, conteo in vocales_count.items():\n",
    "    print(f\"{vocal}: {conteo}\")"
   ]
  },
  {
   "cell_type": "markdown",
   "metadata": {},
   "source": [
    "##### 3. Crea una pequeña aplicación que gestione una biblioteca de libros. Cada libro debe representarse como un diccionario que contenga el título, el autor y el año de publicación. Almacena todos los libros en una lista y permite al usuario realizar las siguientes acciones:\n",
    "\n",
    "1. Agregar un nuevo libro a la biblioteca.\n",
    "2. Listar todos los libros disponibles en la biblioteca.\n",
    "3. Buscar un libro por su título."
   ]
  },
  {
   "cell_type": "code",
   "execution_count": 4,
   "metadata": {},
   "outputs": [
    {
     "name": "stdout",
     "output_type": "stream",
     "text": [
      "\n",
      "Elige una opción:\n",
      "1. Agregar un libro\n",
      "2. Listar libros\n",
      "3. Buscar un libro por título\n",
      "4. Salir\n",
      "Libro '100 años de soledad' agregado a la biblioteca.\n",
      "\n",
      "Elige una opción:\n",
      "1. Agregar un libro\n",
      "2. Listar libros\n",
      "3. Buscar un libro por título\n",
      "4. Salir\n",
      "Libros en la biblioteca:\n",
      "Título: 100 años de soledad, Autor: g. g. marquez, Año: 1967\n",
      "\n",
      "Elige una opción:\n",
      "1. Agregar un libro\n",
      "2. Listar libros\n",
      "3. Buscar un libro por título\n",
      "4. Salir\n",
      "Libro encontrado: Título: 100 años de soledad, Autor: g. g. marquez, Año: 1967\n",
      "\n",
      "Elige una opción:\n",
      "1. Agregar un libro\n",
      "2. Listar libros\n",
      "3. Buscar un libro por título\n",
      "4. Salir\n",
      "Saliendo de la aplicación...\n"
     ]
    }
   ],
   "source": [
    "# Lista para almacenar libros\n",
    "biblioteca = []\n",
    "\n",
    "def agregar_libro(titulo, autor, anio):\n",
    "    libro = {\n",
    "        'titulo': titulo,\n",
    "        'autor': autor,\n",
    "        'anio': anio\n",
    "    }\n",
    "    biblioteca.append(libro)\n",
    "    print(f\"Libro '{titulo}' agregado a la biblioteca.\")\n",
    "\n",
    "def listar_libros():\n",
    "    if not biblioteca:\n",
    "        print(\"No hay libros en la biblioteca.\")\n",
    "        return\n",
    "    print(\"Libros en la biblioteca:\")\n",
    "    for libro in biblioteca:\n",
    "        print(f\"Título: {libro['titulo']}, Autor: {libro['autor']}, Año: {libro['anio']}\")\n",
    "\n",
    "def buscar_libro(titulo):\n",
    "    for libro in biblioteca:\n",
    "        if libro['titulo'].lower() == titulo.lower():\n",
    "            print(f\"Libro encontrado: Título: {libro['titulo']}, Autor: {libro['autor']}, Año: {libro['anio']}\")\n",
    "            return\n",
    "    print(f\"El libro '{titulo}' no se encontró en la biblioteca.\")\n",
    "\n",
    "# Bucle principal\n",
    "while True:\n",
    "    print(\"\\nElige una opción:\")\n",
    "    print(\"1. Agregar un libro\")\n",
    "    print(\"2. Listar libros\")\n",
    "    print(\"3. Buscar un libro por título\")\n",
    "    print(\"4. Salir\")\n",
    "    \n",
    "    opcion = input(\"Opción: \")\n",
    "\n",
    "    if opcion == '1':\n",
    "        titulo = input(\"Ingresa el título del libro: \")\n",
    "        autor = input(\"Ingresa el autor del libro: \")\n",
    "        anio = input(\"Ingresa el año de publicación: \")\n",
    "        agregar_libro(titulo, autor, anio)\n",
    "\n",
    "    elif opcion == '2':\n",
    "        listar_libros()\n",
    "\n",
    "    elif opcion == '3':\n",
    "        titulo = input(\"Ingresa el título del libro a buscar: \")\n",
    "        buscar_libro(titulo)\n",
    "\n",
    "    elif opcion == '4':\n",
    "        print(\"Saliendo de la aplicación...\")\n",
    "        break\n",
    "\n",
    "    else:\n",
    "        print(\"Opción no válida. Intenta de nuevo.\")"
   ]
  },
  {
   "cell_type": "markdown",
   "metadata": {},
   "source": [
    "##### 4. Crea un programa en Python que tome una frase como entrada y la devuelva en orden inverso, es decir, que las palabras aparezcan en orden inverso, pero cada palabra debe mantenerse en su forma original."
   ]
  },
  {
   "cell_type": "code",
   "execution_count": 6,
   "metadata": {},
   "outputs": [
    {
     "name": "stdout",
     "output_type": "stream",
     "text": [
      "Frase en orden inverso: frase una es esto\n"
     ]
    }
   ],
   "source": [
    "# Pedir al usuario que ingrese una frase\n",
    "frase = input(\"Ingresa una frase: \")\n",
    "\n",
    "# Dividir la frase en palabras\n",
    "palabras = frase.split()\n",
    "\n",
    "# Invertir el orden de las palabras usando el método reverse()\n",
    "palabras.reverse()\n",
    "\n",
    "# Unir las palabras en una sola cadena\n",
    "frase_invertida = ' '.join(palabras)\n",
    "\n",
    "# Imprimir la frase resultante\n",
    "print(\"Frase en orden inverso:\", frase_invertida)"
   ]
  },
  {
   "cell_type": "markdown",
   "metadata": {},
   "source": [
    "##### 5. Crea una clase. Esta clase debe tener un atributo que sea un clasificador random forest. Debe tener un método que sea fit un método que sea predict, un método que sea guardar y que con la librería pickle lo salve en un fichero que es un parámetro y un método que sea cargar que como parámetro tiene el nombre de un fichero. Comprueba que funciona bien con un dataset de prueba, por ejemplo uno de los estándar de seaborn."
   ]
  },
  {
   "cell_type": "code",
   "execution_count": 7,
   "metadata": {},
   "outputs": [
    {
     "name": "stdout",
     "output_type": "stream",
     "text": [
      "Modelo ajustado.\n",
      "Predicciones: [1 0 2 1 1 0 1 2 1 1 2 0 0 0 0 1 2 1 1 2 0 2 0 2 2 2 2 2 0 0]\n",
      "Modelo guardado en random_forest_model.pkl.\n",
      "Modelo cargado desde random_forest_model.pkl.\n",
      "Predicciones con el modelo cargado: [1 0 2 1 1 0 1 2 1 1 2 0 0 0 0 1 2 1 1 2 0 2 0 2 2 2 2 2 0 0]\n"
     ]
    }
   ],
   "source": [
    "import pickle\n",
    "from sklearn.ensemble import RandomForestClassifier\n",
    "\n",
    "class MyRandomForestClassifier:\n",
    "    def __init__(self):\n",
    "        # Inicializa el clasificador Random Forest\n",
    "        self.classifier = RandomForestClassifier()\n",
    "    \n",
    "    def fit(self, X, y):\n",
    "        \"\"\"\n",
    "        Ajusta el clasificador a los datos de entrenamiento.\n",
    "        \n",
    "        :param X: Features del dataset (dataframe o array).\n",
    "        :param y: Etiquetas del dataset.\n",
    "        \"\"\"\n",
    "        self.classifier.fit(X, y)\n",
    "        print(\"Modelo ajustado.\")\n",
    "\n",
    "    def predict(self, X):\n",
    "        \"\"\"\n",
    "        Realiza predicciones usando el clasificador ajustado.\n",
    "        \n",
    "        :param X: Features del dataset para hacer predicciones.\n",
    "        :return: Predicciones del modelo.\n",
    "        \"\"\"\n",
    "        return self.classifier.predict(X)\n",
    "\n",
    "    def save(self, filename):\n",
    "        \"\"\"\n",
    "        Guarda el modelo en un fichero usando pickle.\n",
    "        \n",
    "        :param filename: Nombre del archivo donde se guardará el modelo.\n",
    "        \"\"\"\n",
    "        with open(filename, 'wb') as file:\n",
    "            pickle.dump(self.classifier, file)\n",
    "            print(f\"Modelo guardado en {filename}.\")\n",
    "\n",
    "    def load(self, filename):\n",
    "        \"\"\"\n",
    "        Carga un modelo guardado desde un fichero usando pickle.\n",
    "        \n",
    "        :param filename: Nombre del archivo desde el que se cargará el modelo.\n",
    "        \"\"\"\n",
    "        with open(filename, 'rb') as file:\n",
    "            self.classifier = pickle.load(file)\n",
    "            print(f\"Modelo cargado desde {filename}.\")\n",
    "\n",
    "\n",
    "import numpy as np\n",
    "from sklearn.datasets import load_iris\n",
    "from sklearn.model_selection import train_test_split\n",
    "\n",
    "# Cargar un dataset de ejemplo (Iris)\n",
    "iris = load_iris()\n",
    "X = iris.data\n",
    "y = iris.target\n",
    "\n",
    "# Dividir el dataset en entrenamiento y prueba\n",
    "X_train, X_test, y_train, y_test = train_test_split(X, y, test_size=0.2, random_state=42)\n",
    "\n",
    "# Crear una instancia del clasificador\n",
    "model = MyRandomForestClassifier()\n",
    "\n",
    "# Ajustar el modelo\n",
    "model.fit(X_train, y_train)\n",
    "\n",
    "# Hacer predicciones\n",
    "predictions = model.predict(X_test)\n",
    "print(\"Predicciones:\", predictions)\n",
    "\n",
    "# Guardar el modelo\n",
    "model.save(\"random_forest_model.pkl\")\n",
    "\n",
    "# Cargar el modelo\n",
    "model.load(\"random_forest_model.pkl\")\n",
    "    \n",
    "# Realizar predicciones con el modelo cargado\n",
    "predictions_loaded_model = model.predict(X_test)\n",
    "print(\"Predicciones con el modelo cargado:\", predictions_loaded_model)"
   ]
  }
 ],
 "metadata": {
  "kernelspec": {
   "display_name": "Python 3",
   "language": "python",
   "name": "python3"
  },
  "language_info": {
   "codemirror_mode": {
    "name": "ipython",
    "version": 3
   },
   "file_extension": ".py",
   "mimetype": "text/x-python",
   "name": "python",
   "nbconvert_exporter": "python",
   "pygments_lexer": "ipython3",
   "version": "3.12.5"
  }
 },
 "nbformat": 4,
 "nbformat_minor": 2
}
