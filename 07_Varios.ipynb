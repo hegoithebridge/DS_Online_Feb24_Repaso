{
 "cells": [
  {
   "cell_type": "markdown",
   "metadata": {},
   "source": [
    "# EJERCICIOS"
   ]
  },
  {
   "cell_type": "markdown",
   "metadata": {},
   "source": [
    "#### 1. El coste del fraude\n",
    "\n",
    "Se nos plantea el siguiente problema. Nos dan un dataset con 10.000 transacciones bancarias. Cada transacción tiene 100 features nombradas *feat1*, *feat2*, ... , *feat100*, *valor* y *flag*. Todas las columnas con el prefijo feat son numéricas pero no se nos dice absolutamente nada más sobre ellas. La columna valor es el valor de la transacción en euros y flag es una columna binaria que nos dice si la transacción es fraudulenta (1) o no (0). Las transacciones fraudulentas marcadas con el atributo *flag* representan un 0,5 % de todas las transacciones. \n",
    "\n",
    "Nos piden desarrollar un sistema que identifique las transacciones fraudulentas marcadas con *flag*. ¿Cómo procederías?\n",
    "\n",
    "Nos piden que estimemos el coste del fraude si hubiese estado nuestro sistema de detección en producción y que lo comparemos con el coste del fraude sin nuestro sistema. ¿Cómo lo harías?\n",
    "\n",
    "Por último nos dicen que sabemos que en nuestro dataset hay una porción de transacciones fraudulentas pero que no están etiquetadas con *flag*. De ellas sabemos que representan un 0,5 % de las transacciones, al igual que las que sí están etiquetadas. Explica el sistema que diseñarías para intentar detectar esta segunda clase de transacciones fraudulentas."
   ]
  },
  {
   "cell_type": "markdown",
   "metadata": {},
   "source": [
    "#### 2. Detección de caras para un casino\n",
    "\n",
    "Cada cámara de vídeo de un casino toma 60 imágenes por minuto y las envía a un servidor central donde hay un sistema de detección de caras. \n",
    "\n",
    "Las imagenes son en blanco y negro (escala de 0 a 255) y tienen 4,096 píxeles (64x64). \n",
    "\n",
    "El problema es que las líneas del casino son muy viejas y no tienen suficiente ancho de banda para soportar la velocidad del vídeo requerida, que sería de aproximadamente de 32 bps. Las líneas son de 16 bps. \n",
    "\n",
    "Explica como podrías comprimir estas imágenes de tal forma que el sistema de detección mantuviese la máxima eficacia posible."
   ]
  },
  {
   "cell_type": "markdown",
   "metadata": {},
   "source": [
    "#### 3. Detección de imágenes con Deep Neural Networks\n",
    "\n",
    "¿Qué puedes hacer si tienes un problema desbalanceado de detección de imágenes y quieres mejorar su eficacia?\n",
    "\n",
    "Supón que has realizado el entrenamiento de tu modelo con un dataset *tuyo* únicamente. ¿Qué técnica podrías intentar utilizar para mejorar la eficacia de tu detector?\n"
   ]
  }
 ],
 "metadata": {
  "language_info": {
   "name": "python"
  }
 },
 "nbformat": 4,
 "nbformat_minor": 2
}
