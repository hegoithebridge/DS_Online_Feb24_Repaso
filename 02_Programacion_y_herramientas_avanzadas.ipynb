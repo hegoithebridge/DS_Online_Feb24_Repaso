{
 "cells": [
  {
   "cell_type": "markdown",
   "metadata": {},
   "source": [
    "# EJERCICIOS REPASO"
   ]
  },
  {
   "cell_type": "markdown",
   "metadata": {},
   "source": [
    "## 02 Programación y herramientas avanzadas"
   ]
  },
  {
   "cell_type": "markdown",
   "metadata": {},
   "source": [
    "##### 1. Crea un programa que genere una matriz de vectores aleatorios de tamaño ( 5 \\times 3 ) (5 vectores en un espacio de 3 dimensiones) y luego calcule el producto punto entre un vector específico y todos los demás vectores de la matriz."
   ]
  },
  {
   "cell_type": "code",
   "execution_count": 1,
   "metadata": {},
   "outputs": [
    {
     "name": "stdout",
     "output_type": "stream",
     "text": [
      "Matriz de vectores:\n",
      "[[0.9052844  0.30807139 0.8913656 ]\n",
      " [0.56235747 0.62080189 0.97364254]\n",
      " [0.40258975 0.29992846 0.40018279]\n",
      " [0.22464702 0.48985411 0.11745309]\n",
      " [0.67611073 0.44758686 0.31442129]]\n",
      "\n",
      "Productos punto entre el vector de referencia y los demás vectores:\n",
      "Producto punto con el vector 1: 1.5682\n",
      "Producto punto con el vector 2: 0.8136\n",
      "Producto punto con el vector 3: 0.4590\n",
      "Producto punto con el vector 4: 1.0302\n"
     ]
    }
   ],
   "source": [
    "import numpy as np\n",
    "\n",
    "# Generar una matriz de vectores aleatorios (5 vectores de 3 dimensiones)\n",
    "matriz_vectores = np.random.rand(5, 3)\n",
    "\n",
    "# Imprimir la matriz de vectores\n",
    "print(\"Matriz de vectores:\")\n",
    "print(matriz_vectores)\n",
    "\n",
    "# Escoger el primer vector\n",
    "vector_referencia = matriz_vectores[0]\n",
    "\n",
    "# Calcular el producto punto entre el vector de referencia y todos los demás\n",
    "productos_punto = []\n",
    "for i in range(matriz_vectores.shape[0]):\n",
    "    if i != 0:  # Evitar calcular el producto punto con el mismo vector\n",
    "        producto = np.dot(vector_referencia, matriz_vectores[i])\n",
    "        productos_punto.append(producto)\n",
    "\n",
    "# Imprimir los productos punto\n",
    "print(\"\\nProductos punto entre el vector de referencia y los demás vectores:\")\n",
    "for i, p in enumerate(productos_punto):\n",
    "    print(f\"Producto punto con el vector {i + 1}: {p:.4f}\")"
   ]
  },
  {
   "cell_type": "markdown",
   "metadata": {},
   "source": [
    "##### 2. Crea un programa que realice las siguientes operaciones con un DataFrame que contenga información sobre un grupo de estudiantes. Las columnas del DataFrame incluirán: Nombre, Edad, Nota de Matemáticas, Nota de Historia, y Nota de Ciencias.\n",
    "\n",
    "Las operaciones a realizar son:\n",
    "\n",
    "1. Crear un DataFrame con datos ficticios de al menos 5 estudiantes.\n",
    "2. Calcular y agregar una nueva columna al DataFrame que contenga la Nota Media de cada estudiante.\n",
    "3. Filtrar el DataFrame para mostrar solo los estudiantes que tengan una media superior a 75.\n",
    "4. Imprimir el DataFrame original y el DataFrame filtrado."
   ]
  },
  {
   "cell_type": "code",
   "execution_count": 2,
   "metadata": {},
   "outputs": [
    {
     "name": "stdout",
     "output_type": "stream",
     "text": [
      "DataFrame original:\n",
      "  Nombre  Edad  Nota de Matemáticas  Nota de Historia  Nota de Ciencias  \\\n",
      "0    Ana    18                   80                75                90   \n",
      "1   Juan    19                   65                85                75   \n",
      "2   Luis    20                   90                70                60   \n",
      "3  María    21                   70                80                80   \n",
      "4  Pedro    22                   85                90                88   \n",
      "\n",
      "   Nota Media  \n",
      "0   81.666667  \n",
      "1   75.000000  \n",
      "2   73.333333  \n",
      "3   76.666667  \n",
      "4   87.666667  \n",
      "\n",
      "DataFrame filtrado (Nota Media > 75):\n",
      "  Nombre  Edad  Nota de Matemáticas  Nota de Historia  Nota de Ciencias  \\\n",
      "0    Ana    18                   80                75                90   \n",
      "3  María    21                   70                80                80   \n",
      "4  Pedro    22                   85                90                88   \n",
      "\n",
      "   Nota Media  \n",
      "0   81.666667  \n",
      "3   76.666667  \n",
      "4   87.666667  \n"
     ]
    }
   ],
   "source": [
    "import pandas as pd\n",
    "\n",
    "# Crear un diccionario con datos de estudiantes\n",
    "data = {\n",
    "    'Nombre': ['Ana', 'Juan', 'Luis', 'María', 'Pedro'],\n",
    "    'Edad': [18, 19, 20, 21, 22],\n",
    "    'Nota de Matemáticas': [80, 65, 90, 70, 85],\n",
    "    'Nota de Historia': [75, 85, 70, 80, 90],\n",
    "    'Nota de Ciencias': [90, 75, 60, 80, 88]\n",
    "}\n",
    "\n",
    "# Crear el DataFrame\n",
    "df = pd.DataFrame(data)\n",
    "\n",
    "# Calcular la Nota Media y agregar una nueva columna\n",
    "df['Nota Media'] = df[['Nota de Matemáticas', 'Nota de Historia', 'Nota de Ciencias']].mean(axis=1)\n",
    "\n",
    "# Filtrar el DataFrame para estudiantes con Nota Media superior a 75\n",
    "df_filtrado = df[df['Nota Media'] > 75]\n",
    "\n",
    "# Imprimir el DataFrame original\n",
    "print(\"DataFrame original:\")\n",
    "print(df)\n",
    "\n",
    "# Imprimir el DataFrame filtrado\n",
    "print(\"\\nDataFrame filtrado (Nota Media > 75):\")\n",
    "print(df_filtrado)"
   ]
  }
 ],
 "metadata": {
  "kernelspec": {
   "display_name": "Python 3",
   "language": "python",
   "name": "python3"
  },
  "language_info": {
   "codemirror_mode": {
    "name": "ipython",
    "version": 3
   },
   "file_extension": ".py",
   "mimetype": "text/x-python",
   "name": "python",
   "nbconvert_exporter": "python",
   "pygments_lexer": "ipython3",
   "version": "3.12.5"
  }
 },
 "nbformat": 4,
 "nbformat_minor": 2
}
